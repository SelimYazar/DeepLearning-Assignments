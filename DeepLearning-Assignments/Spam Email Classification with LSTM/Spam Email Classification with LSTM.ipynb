{
  "nbformat": 4,
  "nbformat_minor": 0,
  "metadata": {
    "colab": {
      "provenance": []
    },
    "kernelspec": {
      "name": "python3",
      "display_name": "Python 3"
    },
    "language_info": {
      "name": "python"
    }
  },
  "cells": [
    {
      "cell_type": "code",
      "source": [
        "# Import necessary libraries\n",
        "import pandas as pd\n",
        "import numpy as np\n",
        "import torch\n",
        "from torch import nn\n",
        "from torch.utils.data import DataLoader, Dataset\n",
        "from sklearn.model_selection import train_test_split\n",
        "from sklearn.metrics import confusion_matrix, f1_score, accuracy_score\n",
        "from sklearn.feature_extraction.text import CountVectorizer\n",
        "import seaborn as sns\n",
        "import matplotlib.pyplot as plt\n",
        "\n",
        "# Step 1: Load the dataset\n",
        "emails_data = pd.read_excel('/content/emails.xlsx')  # Path to the uploaded file\n",
        "\n",
        "# Step 2: Preprocess the data\n",
        "texts = emails_data['text'].values\n",
        "labels = emails_data['spam'].values\n",
        "\n",
        "# Convert text to numeric using CountVectorizer\n",
        "vectorizer = CountVectorizer(max_features=5000)  # Limit to 5000 features\n",
        "X = vectorizer.fit_transform(texts).toarray()\n",
        "\n",
        "# Train-test split\n",
        "X_train, X_test, y_train, y_test = train_test_split(X, labels, test_size=0.2, random_state=42)\n",
        "\n",
        "# Convert to PyTorch tensors\n",
        "X_train_tensor = torch.tensor(X_train, dtype=torch.float32)\n",
        "y_train_tensor = torch.tensor(y_train, dtype=torch.long)\n",
        "X_test_tensor = torch.tensor(X_test, dtype=torch.float32)\n",
        "y_test_tensor = torch.tensor(y_test, dtype=torch.long)\n",
        "\n",
        "# Step 3: Create a custom dataset\n",
        "class EmailDataset(Dataset):\n",
        "    def __init__(self, X, y):\n",
        "        self.X = X\n",
        "        self.y = y\n",
        "\n",
        "    def __len__(self):\n",
        "        return len(self.y)\n",
        "\n",
        "    def __getitem__(self, idx):\n",
        "        return self.X[idx], self.y[idx]\n",
        "\n",
        "train_dataset = EmailDataset(X_train_tensor, y_train_tensor)\n",
        "test_dataset = EmailDataset(X_test_tensor, y_test_tensor)\n",
        "\n",
        "train_loader = DataLoader(train_dataset, batch_size=64, shuffle=True)  # Optimized batch size\n",
        "test_loader = DataLoader(test_dataset, batch_size=64, shuffle=False)\n",
        "\n",
        "# Step 4: Define the LSTM model with optimizations\n",
        "class OptimizedLSTMModel(nn.Module):\n",
        "    def __init__(self, input_size, hidden_size, output_size, num_layers):\n",
        "        super(OptimizedLSTMModel, self).__init__()\n",
        "        self.lstm = nn.LSTM(input_size, hidden_size, num_layers=num_layers, batch_first=True)\n",
        "        self.fc = nn.Linear(hidden_size, output_size)\n",
        "        self.relu = nn.ReLU()  # ReLU activation function\n",
        "\n",
        "    def forward(self, x):\n",
        "        x, _ = self.lstm(x)\n",
        "        x = self.relu(x[:, -1, :])  # Apply ReLU activation to the last LSTM output\n",
        "        x = self.fc(x)\n",
        "        return x\n",
        "\n",
        "input_size = X_train.shape[1]\n",
        "hidden_size = 256  # Increased hidden size\n",
        "output_size = 2\n",
        "num_layers = 2  # Multi-layer LSTM\n",
        "\n",
        "model = OptimizedLSTMModel(input_size, hidden_size, output_size, num_layers)\n",
        "criterion = nn.CrossEntropyLoss()\n",
        "optimizer = torch.optim.Adam(model.parameters(), lr=0.0005)  # Optimized learning rate\n",
        "\n",
        "# Step 5: Train the model\n",
        "num_epochs = 20  # Increased number of epochs\n",
        "for epoch in range(num_epochs):\n",
        "    model.train()\n",
        "    for X_batch, y_batch in train_loader:\n",
        "        outputs = model(X_batch.unsqueeze(1))  # Add sequence dimension\n",
        "        loss = criterion(outputs, y_batch)\n",
        "        optimizer.zero_grad()\n",
        "        loss.backward()\n",
        "        optimizer.step()\n",
        "    print(f\"Epoch {epoch+1}/{num_epochs}, Loss: {loss.item()}\")\n",
        "\n",
        "# Step 6: Save the model\n",
        "torch.save(model.state_dict(), '/content/optimized_lstm_model.pth')\n",
        "\n",
        "# Step 7: Load the model and evaluate\n",
        "model.load_state_dict(torch.load('/content/optimized_lstm_model.pth'))\n",
        "model.eval()\n",
        "\n",
        "# Evaluate on test data\n",
        "y_true = []\n",
        "y_pred = []\n",
        "\n",
        "with torch.no_grad():\n",
        "    for X_batch, y_batch in test_loader:\n",
        "        outputs = model(X_batch.unsqueeze(1))\n",
        "        _, predicted = torch.max(outputs, 1)\n",
        "        y_true.extend(y_batch.numpy())\n",
        "        y_pred.extend(predicted.numpy())\n",
        "\n",
        "# Step 8: Calculate metrics\n",
        "conf_matrix = confusion_matrix(y_true, y_pred)\n",
        "f1 = f1_score(y_true, y_pred)\n",
        "accuracy = accuracy_score(y_true, y_pred)\n",
        "\n",
        "print(\"Confusion Matrix:\")\n",
        "print(conf_matrix)\n",
        "print(f\"F1 Score: {f1}\")\n",
        "print(f\"Accuracy: {accuracy}\")\n",
        "\n",
        "# Step 9: Visualize the confusion matrix\n",
        "plt.figure(figsize=(8, 6))\n",
        "sns.heatmap(conf_matrix, annot=True, fmt='d', cmap='Blues', xticklabels=['Not Spam', 'Spam'], yticklabels=['Not Spam', 'Spam'])\n",
        "plt.xlabel('Predicted Labels')\n",
        "plt.ylabel('True Labels')\n",
        "plt.title('Confusion Matrix')\n",
        "plt.show()\n"
      ],
      "metadata": {
        "colab": {
          "base_uri": "https://localhost:8080/",
          "height": 1000
        },
        "id": "SA8nXGffFlWB",
        "outputId": "0eded06a-b51f-4b4e-e27f-8eeb3930004c"
      },
      "execution_count": 1,
      "outputs": [
        {
          "output_type": "stream",
          "name": "stdout",
          "text": [
            "Epoch 1/20, Loss: 0.06806956976652145\n",
            "Epoch 2/20, Loss: 0.009126308374106884\n",
            "Epoch 3/20, Loss: 0.006137156393378973\n",
            "Epoch 4/20, Loss: 0.006713492330163717\n",
            "Epoch 5/20, Loss: 0.0003526262007653713\n",
            "Epoch 6/20, Loss: 0.00020306865917518735\n",
            "Epoch 7/20, Loss: 8.281407644972205e-05\n",
            "Epoch 8/20, Loss: 0.002169228857383132\n",
            "Epoch 9/20, Loss: 0.0006346043082885444\n",
            "Epoch 10/20, Loss: 0.002735432703047991\n",
            "Epoch 11/20, Loss: 2.1866675524506718e-05\n",
            "Epoch 12/20, Loss: 0.00010820379975484684\n",
            "Epoch 13/20, Loss: 0.0003116309526376426\n",
            "Epoch 14/20, Loss: 4.520460788626224e-05\n",
            "Epoch 15/20, Loss: 1.3604386367660481e-05\n",
            "Epoch 16/20, Loss: 3.3029486075975e-05\n",
            "Epoch 17/20, Loss: 3.1150984796113335e-06\n",
            "Epoch 18/20, Loss: 6.7790156208502594e-06\n",
            "Epoch 19/20, Loss: 7.384287528111599e-06\n",
            "Epoch 20/20, Loss: 4.639638973458204e-06\n"
          ]
        },
        {
          "output_type": "stream",
          "name": "stderr",
          "text": [
            "<ipython-input-1-5832aead2bb2>:90: FutureWarning: You are using `torch.load` with `weights_only=False` (the current default value), which uses the default pickle module implicitly. It is possible to construct malicious pickle data which will execute arbitrary code during unpickling (See https://github.com/pytorch/pytorch/blob/main/SECURITY.md#untrusted-models for more details). In a future release, the default value for `weights_only` will be flipped to `True`. This limits the functions that could be executed during unpickling. Arbitrary objects will no longer be allowed to be loaded via this mode unless they are explicitly allowlisted by the user via `torch.serialization.add_safe_globals`. We recommend you start setting `weights_only=True` for any use case where you don't have full control of the loaded file. Please open an issue on GitHub for any issues related to this experimental feature.\n",
            "  model.load_state_dict(torch.load('/content/optimized_lstm_model.pth'))\n"
          ]
        },
        {
          "output_type": "stream",
          "name": "stdout",
          "text": [
            "Confusion Matrix:\n",
            "[[855   1]\n",
            " [  3 287]]\n",
            "F1 Score: 0.9930795847750865\n",
            "Accuracy: 0.9965095986038395\n"
          ]
        },
        {
          "output_type": "display_data",
          "data": {
            "text/plain": [
              "<Figure size 800x600 with 2 Axes>"
            ],
            "image/png": "[encoded data removed]"
          },
          "metadata": {}
        }
      ]
    }
  ]
}